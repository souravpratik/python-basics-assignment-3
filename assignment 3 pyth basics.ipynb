{
 "cells": [
  {
   "cell_type": "markdown",
   "id": "4a602da2",
   "metadata": {},
   "source": [
    "# [ASSIGNMENT 3](python basics)"
   ]
  },
  {
   "cell_type": "markdown",
   "id": "1543637e",
   "metadata": {},
   "source": [
    "# QUESTION 1:\n",
    "\n",
    "Q. Why are functions advantageous to have in your programs?\n",
    "\n",
    "sol.:- Advantages of functions in programs:-\n",
    "\n",
    "[i]   It reduces the complexity of  problems into simpler ones by reducing usage of repeatative code which ultimately makes the       program more organised and can be readed with ease.\n",
    "[ii]  It can be assiged into variables, stored in collections or pass as arguments.\n",
    "[iii] It enhances the working experience with language by adding flexibility into it.\n"
   ]
  },
  {
   "cell_type": "markdown",
   "id": "4a0c1bec",
   "metadata": {},
   "source": [
    "# QUESTION 2:\n",
    "\n",
    "Q. When does the code in a function run: when it is specified or when it is called?\n",
    "\n",
    "sol.:- The code in a function run: when it is called.\n",
    "       The code can be called anywhere in program once it is declared within the program. \n",
    "\n",
    "\n",
    "\n"
   ]
  },
  {
   "cell_type": "code",
   "execution_count": 5,
   "id": "ec6c0671",
   "metadata": {},
   "outputs": [
    {
     "name": "stdout",
     "output_type": "stream",
     "text": [
      "function created\n"
     ]
    }
   ],
   "source": [
    "# QUESTION 3:\n",
    "\n",
    "#Q. What statement creates a function?\n",
    "\n",
    "#'def' keyword is used to create a function in python. we need to assign a unique name to function and post doing this we can add our reuired parameters within a parethesis bracket following by colon():\n",
    "#e.g-\n",
    "\n",
    "def function():\n",
    "    print (\"function created\")\n",
    "\n",
    "function()\n",
    "\n",
    "\n",
    "\n"
   ]
  },
  {
   "cell_type": "markdown",
   "id": "e87bf33f",
   "metadata": {},
   "source": [
    "# QUESTION 4:\n",
    "\n",
    "Q. What is the difference between a function and a function call?\n",
    "\n",
    "sol.:- In a program function is designated to do the assigned parameter but function call decides where, when and                      what(parameters)of the function execution, without calling a function there will be no need for a function.\n",
    "\n",
    "    e.g-  function:-      def function():\n",
    "                              print (\"function created\")\n",
    "                   \n",
    "      call of function:-  function()\n",
    "\n",
    "\n"
   ]
  },
  {
   "cell_type": "markdown",
   "id": "d73f6324",
   "metadata": {},
   "source": [
    "# QUESTION 5:\n",
    "\n",
    "Q. How many global scopes are there in a Python program? How many local scopes?\n",
    "\n",
    "sol.:- There is only one global and local scope available in python programming whenever function is called.\n",
    "\n",
    "\n",
    "            \n"
   ]
  },
  {
   "cell_type": "markdown",
   "id": "c441c82e",
   "metadata": {},
   "source": [
    "# QUESTION 6:\n",
    "\n",
    "Q. What happens to variables in a local scope when the function call returns?\n",
    "\n",
    "sol.:- A local scope is created whenever a function is called. Any variables assigned in this function exist within the local          scope. When the function returns, the local scope is destroyed, and these variables are forgotten.\n",
    "\n"
   ]
  },
  {
   "cell_type": "markdown",
   "id": "59d25bc2",
   "metadata": {},
   "source": [
    "# QUESTION 7:\n",
    "\n",
    "Q. What is the concept of a return value? Is it possible to have a return value in an expression?\n",
    "\n",
    "sol.:- A python function can return a specified value anywhere within that function by using a return statement, which ends the        function under execution and then returns a value to the caller.\n",
    "       Although,the return statement within a function does not print the value being returned to the caller.\n",
    "       If the return statement is without any expression, then the special value None is returned.\n",
    "\n",
    "       Yes,It is possible to have a return value in an expression."
   ]
  },
  {
   "cell_type": "markdown",
   "id": "f1d348b9",
   "metadata": {},
   "source": [
    "# QUESTION 8:\n",
    "\n",
    "Q. If a function does not have a return statement, what is the return value of a call to that function?\n",
    "\n",
    "sol.:- If a function does not have a return statement, then the return value of a call to that function will be NONE.\n",
    "\n"
   ]
  },
  {
   "cell_type": "markdown",
   "id": "f6c9b382",
   "metadata": {},
   "source": [
    "# QUESTION 9:\n",
    "\n",
    "Q. How do you make a function variable refer to the global variable?\n",
    "\n",
    "sol.:- By using global statement we can make a function variable refer to the global variable.\n",
    "\n",
    "\n",
    "\n"
   ]
  },
  {
   "cell_type": "markdown",
   "id": "63b08c72",
   "metadata": {},
   "source": [
    "# QUESTION 10:\n",
    "\n",
    "Q. What is the data type of None?\n",
    "\n",
    "sol.:- The data type of None is None type. \n",
    "\n",
    "\n",
    "\n",
    "\n",
    "\n"
   ]
  },
  {
   "cell_type": "markdown",
   "id": "1038ed61",
   "metadata": {},
   "source": [
    "# QUESTION 11:\n",
    "\n",
    "Q. What does the sentence import areallyourpetsnamederic do?\n",
    "\n",
    "sol.:- it will import a module named 'areallyourpetsnamederic'.\n",
    "\n",
    "\n",
    "\n",
    "\n"
   ]
  },
  {
   "cell_type": "markdown",
   "id": "162abde8",
   "metadata": {},
   "source": [
    "# QUESTION 12:\n",
    "\n",
    "Q. If you had a bacon() feature in a spam module, what would you call it after importing spam?\n",
    "\n",
    "sol.:- It can be called by spam.bacon().\n"
   ]
  },
  {
   "cell_type": "markdown",
   "id": "7eda10c8",
   "metadata": {},
   "source": [
    "# QUESTION 13:\n",
    "\n",
    "Q. What can you do to save a programme from crashing if it encounters an error?\n",
    "\n",
    "sol.:- we can use  try clause for that block of code."
   ]
  },
  {
   "cell_type": "markdown",
   "id": "35215cc4",
   "metadata": {},
   "source": [
    "# QUESTION 14:\n",
    "\n",
    "Q. What is the purpose of the try clause? What is the purpose of the except clause?\n",
    "\n",
    "sol.:- That block of  code that could  cause an error goes in the try clause.\n",
    "\n",
    "       That block of  code that executes if an error occurs goes in the except clause."
   ]
  },
  {
   "cell_type": "code",
   "execution_count": null,
   "id": "39f1cf2d",
   "metadata": {},
   "outputs": [],
   "source": []
  }
 ],
 "metadata": {
  "kernelspec": {
   "display_name": "Python 3 (ipykernel)",
   "language": "python",
   "name": "python3"
  },
  "language_info": {
   "codemirror_mode": {
    "name": "ipython",
    "version": 3
   },
   "file_extension": ".py",
   "mimetype": "text/x-python",
   "name": "python",
   "nbconvert_exporter": "python",
   "pygments_lexer": "ipython3",
   "version": "3.9.7"
  }
 },
 "nbformat": 4,
 "nbformat_minor": 5
}
